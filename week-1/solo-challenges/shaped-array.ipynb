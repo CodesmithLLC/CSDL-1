{
 "cells": [
  {
   "cell_type": "markdown",
   "metadata": {
    "toc": true
   },
   "source": [
    "<h1>Table of Contents<span class=\"tocSkip\"></span></h1>\n",
    "<div class=\"toc\"><ul class=\"toc-item\"><li><span><a href=\"#Shaped-Array\" data-toc-modified-id=\"Shaped-Array-1\"><span class=\"toc-item-num\">1&nbsp;&nbsp;</span>Shaped Array</a></span><ul class=\"toc-item\"><li><span><a href=\"#Challenge:-get_shape\" data-toc-modified-id=\"Challenge:-get_shape-1.1\"><span class=\"toc-item-num\">1.1&nbsp;&nbsp;</span>Challenge: <code>get_shape</code></a></span></li><li><span><a href=\"#Challenge:-ShapedArray\" data-toc-modified-id=\"Challenge:-ShapedArray-1.2\"><span class=\"toc-item-num\">1.2&nbsp;&nbsp;</span>Challenge: <code>ShapedArray</code></a></span></li></ul></li><li><span><a href=\"#Extensions\" data-toc-modified-id=\"Extensions-2\"><span class=\"toc-item-num\">2&nbsp;&nbsp;</span>Extensions</a></span></li></ul></div>"
   ]
  },
  {
   "cell_type": "markdown",
   "metadata": {},
   "source": [
    "# Shaped Array"
   ]
  },
  {
   "cell_type": "markdown",
   "metadata": {},
   "source": [
    "We'll create a class that extends Python lists. Begin by completing the function below which determines the shape of a Python list."
   ]
  },
  {
   "cell_type": "markdown",
   "metadata": {},
   "source": [
    "## Challenge: `get_shape`"
   ]
  },
  {
   "cell_type": "markdown",
   "metadata": {},
   "source": [
    "**Function Description**\n",
    "\n",
    "`get_shape` returns the shape of a python list, as if it were a NumPy array. For instance, `get_shape([1,2,3]) == (3,)` and `get_shape([[1],[2],[3],[4]]) == (4,1)`. For lists that don't have a well-defined shape, `get_shape` should return `None`. For example, `get_shape([[1,2],[3,4,5]]) == None`."
   ]
  },
  {
   "cell_type": "code",
   "execution_count": 1,
   "metadata": {},
   "outputs": [],
   "source": [
    "def get_shape(l):\n",
    "    pass"
   ]
  },
  {
   "cell_type": "markdown",
   "metadata": {},
   "source": [
    "## Challenge: `ShapedArray`"
   ]
  },
  {
   "cell_type": "markdown",
   "metadata": {},
   "source": [
    "Complete the `__init__` method for the `ShapedArray` class below."
   ]
  },
  {
   "cell_type": "markdown",
   "metadata": {},
   "source": [
    "**Function Description**\n",
    "\n",
    "`__init__` will accept a list, `l`, and check if it has a shape. If it does, then `__init__` will store the result as the attribute `self.shape`, and will pass `l` onto the built-in function `super`. If `l` doesn't have a well-defined shape, `__init__` should throw an assertion error, preventing a misshapen array from being created."
   ]
  },
  {
   "cell_type": "code",
   "execution_count": null,
   "metadata": {},
   "outputs": [],
   "source": [
    "def ShapedArray(list):\n",
    "    def __init__(self, l):\n",
    "        pass"
   ]
  },
  {
   "cell_type": "markdown",
   "metadata": {},
   "source": [
    "# Extensions"
   ]
  },
  {
   "cell_type": "markdown",
   "metadata": {},
   "source": [
    "1. Instead of throwing an assertion error if `l` has no shape, create a subclass of `Exception` called `ShapeError`, and throw a `ShapeError` instead.\n",
    "1. Create a class called `SinglyTypedArray` that is similar to `ShapedArray`, except instead of checking that an array has a well-defined shape, it checks that all of its non-list elements share the same type."
   ]
  }
 ],
 "metadata": {
  "kernelspec": {
   "display_name": "Python 3",
   "language": "python",
   "name": "python3"
  },
  "language_info": {
   "codemirror_mode": {
    "name": "ipython",
    "version": 3
   },
   "file_extension": ".py",
   "mimetype": "text/x-python",
   "name": "python",
   "nbconvert_exporter": "python",
   "pygments_lexer": "ipython3",
   "version": "3.6.4"
  },
  "toc": {
   "nav_menu": {},
   "number_sections": true,
   "sideBar": false,
   "skip_h1_title": false,
   "title_cell": "Table of Contents",
   "title_sidebar": "Contents",
   "toc_cell": true,
   "toc_position": {},
   "toc_section_display": true,
   "toc_window_display": false
  }
 },
 "nbformat": 4,
 "nbformat_minor": 2
}
