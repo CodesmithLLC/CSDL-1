{
 "cells": [
  {
   "cell_type": "markdown",
   "metadata": {
    "toc": true
   },
   "source": [
    "<h1>Table of Contents<span class=\"tocSkip\"></span></h1>\n",
    "<div class=\"toc\"><ul class=\"toc-item\"><li><span><a href=\"#Array-Broadcasting\" data-toc-modified-id=\"Array-Broadcasting-1\"><span class=\"toc-item-num\">1&nbsp;&nbsp;</span>Array Broadcasting</a></span><ul class=\"toc-item\"><li><span><a href=\"#Code-Challenge:-__add__\" data-toc-modified-id=\"Code-Challenge:-__add__-1.1\"><span class=\"toc-item-num\">1.1&nbsp;&nbsp;</span>Code Challenge: <code>__add__</code></a></span></li></ul></li><li><span><a href=\"#Extensions\" data-toc-modified-id=\"Extensions-2\"><span class=\"toc-item-num\">2&nbsp;&nbsp;</span>Extensions</a></span><ul class=\"toc-item\"><li><span><a href=\"#Code-Challenge:-reconcile_shapes\" data-toc-modified-id=\"Code-Challenge:-reconcile_shapes-2.1\"><span class=\"toc-item-num\">2.1&nbsp;&nbsp;</span>Code Challenge: <code>reconcile_shapes</code></a></span></li><li><span><a href=\"#Improved-Broadcasting\" data-toc-modified-id=\"Improved-Broadcasting-2.2\"><span class=\"toc-item-num\">2.2&nbsp;&nbsp;</span>Improved Broadcasting</a></span></li></ul></li></ul></div>"
   ]
  },
  {
   "cell_type": "markdown",
   "metadata": {},
   "source": [
    "# Array Broadcasting"
   ]
  },
  {
   "cell_type": "markdown",
   "metadata": {},
   "source": [
    "Below we have an `Array` class defined that subclasses `Shaped` and `SinglyTyped`. `Shaped` and `SinglyTyped` respectively enforce that Arrays must 1) have a well-defined shape, and 2) contain elements of a single type. Since `Array` is a subclass of `Shaped`, it has an attribute called `shape`. Since `Array` is a subclass of `SinglyTyped`, it has an atribute called `dtype`.\n",
    "\n",
    "We would like to be able to use the `Array` class much like we use NumPy Arrays. To do so, we will use a feature of python called **operator overloading**."
   ]
  },
  {
   "cell_type": "markdown",
   "metadata": {},
   "source": [
    "When you execute the statement `5 + 3` in python, the python interpreter looks to see if the integer class has a method called `__add__`. Since integers do have an `__add__` method, behind the scenes the interpreter calls `(5).__add__(3)`. Likewise, when we add two NumPy arrays, like `np.array([1,2,3]) + np.array([4,5,6])`, the python interpreter actually invokes the `__add__` method defined by the `np.ndarray` class."
   ]
  },
  {
   "cell_type": "markdown",
   "metadata": {},
   "source": [
    "By defining our own version of `__add__`, we can define how the interpreter should treat the addition operator when we use it with our own `Array` class. This is called operator overloading."
   ]
  },
  {
   "cell_type": "markdown",
   "metadata": {},
   "source": [
    "## Code Challenge: `__add__`\n",
    "\n",
    "**Function Description**\n",
    "The `__add__` method will recieve an argument, `other`, that is an object we are trying to add an Array to. If `other` is an instance of `Array` and has the same shape, your function should return a new `Array` representing the sum of the two arrays. If the `other` array isn't the same shape, or if the `other` argument isn't an `Array`, `__add__` should produce an assertion error."
   ]
  },
  {
   "cell_type": "code",
   "execution_count": 1,
   "metadata": {},
   "outputs": [
    {
     "name": "stdout",
     "output_type": "stream",
     "text": [
      "shape of arr: (3, 2)\n",
      "dtype of arr: <class 'int'>\n"
     ]
    }
   ],
   "source": [
    "from numpybase import Shaped, SinglyTyped\n",
    "\n",
    "class Array(Shaped, SinglyTyped):\n",
    "    def __init__(self, l):\n",
    "        super().__init__(l)\n",
    "    \n",
    "    def __add__(self, other):\n",
    "        pass\n",
    "    \n",
    "arr = Array([[1,2],[3,4],[5,6]])\n",
    "print(\"shape of arr:\", arr.shape)\n",
    "print(\"dtype of arr:\", arr.dtype)"
   ]
  },
  {
   "cell_type": "markdown",
   "metadata": {},
   "source": [
    "# Extensions"
   ]
  },
  {
   "cell_type": "markdown",
   "metadata": {},
   "source": [
    "## Code Challenge: `reconcile_shapes`"
   ]
  },
  {
   "cell_type": "markdown",
   "metadata": {},
   "source": [
    "**Function Description**\n",
    "\n",
    "`reconcile_shapes` will accept two tuples, `s1` and `s2`, that are the shapes of two different NumPy arrays. If the two shapes are compatible, `reconcile_shapes` should return a tuple representing the shape of the array that would result from adding an array with shape `s1` and an array with shape `s2`. If the two shapes aren't compatible, `reconcile_shapes` should return `None`.\n",
    "\n",
    "See [this link](https://docs.scipy.org/doc/numpy/user/basics.broadcasting.html) for broacasting rules. The examples in the *General Broadcasting Rules* section are particularly helpful. "
   ]
  },
  {
   "cell_type": "code",
   "execution_count": 2,
   "metadata": {},
   "outputs": [],
   "source": [
    "def reconcile_shapes(s1,s2):\n",
    "    pass"
   ]
  },
  {
   "cell_type": "markdown",
   "metadata": {},
   "source": [
    "## Improved Broadcasting"
   ]
  },
  {
   "cell_type": "markdown",
   "metadata": {},
   "source": [
    "Refactor you implementation of `__add__` so that you can add two `Arrays` as long as the shapes of the arrays are reconcilable."
   ]
  }
 ],
 "metadata": {
  "kernelspec": {
   "display_name": "Python 3",
   "language": "python",
   "name": "python3"
  },
  "language_info": {
   "codemirror_mode": {
    "name": "ipython",
    "version": 3
   },
   "file_extension": ".py",
   "mimetype": "text/x-python",
   "name": "python",
   "nbconvert_exporter": "python",
   "pygments_lexer": "ipython3",
   "version": "3.6.4"
  },
  "toc": {
   "nav_menu": {},
   "number_sections": true,
   "sideBar": false,
   "skip_h1_title": false,
   "title_cell": "Table of Contents",
   "title_sidebar": "Contents",
   "toc_cell": true,
   "toc_position": {},
   "toc_section_display": true,
   "toc_window_display": false
  }
 },
 "nbformat": 4,
 "nbformat_minor": 2
}
