{
 "cells": [
  {
   "cell_type": "markdown",
   "metadata": {
    "toc": true
   },
   "source": [
    "<h1>Table of Contents<span class=\"tocSkip\"></span></h1>\n",
    "<div class=\"toc\"><ul class=\"toc-item\"><li><span><a href=\"#Threading-and-Benchmarking-in-Python\" data-toc-modified-id=\"Threading-and-Benchmarking-in-Python-1\"><span class=\"toc-item-num\">1&nbsp;&nbsp;</span>Threading and Benchmarking in Python</a></span><ul class=\"toc-item\"><li><span><a href=\"#Code-Challenge:-Timer\" data-toc-modified-id=\"Code-Challenge:-Timer-1.1\"><span class=\"toc-item-num\">1.1&nbsp;&nbsp;</span>Code Challenge: <code>Timer</code></a></span></li><li><span><a href=\"#Code-Challenge:-single_thread_download\" data-toc-modified-id=\"Code-Challenge:-single_thread_download-1.2\"><span class=\"toc-item-num\">1.2&nbsp;&nbsp;</span>Code Challenge: <code>single_thread_download</code></a></span></li><li><span><a href=\"#Code-Challenge:-thread_handler\" data-toc-modified-id=\"Code-Challenge:-thread_handler-1.3\"><span class=\"toc-item-num\">1.3&nbsp;&nbsp;</span>Code Challenge: <code>thread_handler</code></a></span></li><li><span><a href=\"#Code-Challenge:-threaded_download\" data-toc-modified-id=\"Code-Challenge:-threaded_download-1.4\"><span class=\"toc-item-num\">1.4&nbsp;&nbsp;</span>Code Challenge: <code>threaded_download</code></a></span></li></ul></li></ul></div>"
   ]
  },
  {
   "cell_type": "markdown",
   "metadata": {},
   "source": [
    "# Threading and Benchmarking in Python\n",
    "In many domains of computation, dividing work across multiple threads can save us realworld time. There is ongoing debate over whether it is appropriate to split the task of downloading a large file across multiple threads. To some extent, it depends on the resource you'd like to download, and the server that hosts it. Proponents of multi-threaded downloading tend to claim that most servers will have a limit on how many packets per second are sent to any given client. By making multiple requests across different threads, we can bypass this throttling. On the other hand, opponents of multi-threaded downloading claim that download bottlenecks are more likely to come from local network bandwith limits, which multi-threaded approaches won't address.\n",
    "\n",
    "Whether or not multi-threaded downloading is worth our time will depend on a number of factors including our network bandwith and throttling enforced by a server we are requesting resources from. In the skill builder below, we will create two functions for downloading resources from the internet - one which uses a single thread and another which uses multiple threads. Additionally, we will create a Timer context manager which times how long our tasks take.\n",
    "\n",
    "*Run the cell below to import dependencies!*"
   ]
  },
  {
   "cell_type": "code",
   "execution_count": null,
   "metadata": {},
   "outputs": [],
   "source": [
    "from time import time\n",
    "from math import ceil\n",
    "import requests\n",
    "import threading\n",
    "import os\n",
    "\n",
    "LANDSAT_URL = (\n",
    "    'https://landsat-pds.s3.amazonaws.com/c1/L8/139/045/'\n",
    "    'LC08_L1TP_139045_20170304_20170316_01_T1/'\n",
    "    'LC08_L1TP_139045_20170304_20170316_01_T1_B8.TIF'\n",
    ")"
   ]
  },
  {
   "cell_type": "markdown",
   "metadata": {},
   "source": [
    "## Code Challenge: `Timer`\n",
    "First, let's create our timer. We would like to be able to use our timer like so:\n",
    "\n",
    "```python\n",
    "with Timer('Creating 10,000 new files'):\n",
    "    for i in range(10000):\n",
    "        f = open('file{}.txt'.format(i), 'wb')\n",
    "        f.close()\n",
    "```\n",
    "\n",
    "The keyword `with` is used to create a *context manager*. A context manager is an instance of a class which implements the `__enter__` and `__exit__` special methods. Upon entering the `with` block, the `__enter__` method on the instance will be called. After the block of code is finished executing, the `__exit__` method will be called.\n",
    "\n",
    "We would like our timer to accomplish two things:\n",
    "1. Log out how much time the code block took to execute. In the example above, we would expect something like the following to print to the console: \"Creating 10,000 new files took 11.04 seconds to complete\".\n",
    "1. We'd like to clean up after the code we are testing by deleting any files that were created in our current working directory during the execution of the code block. In this example, all 10,000 files created should be deleted upon exiting the `with` block."
   ]
  },
  {
   "cell_type": "code",
   "execution_count": null,
   "metadata": {},
   "outputs": [],
   "source": [
    "class Timer:\n",
    "    def __init__(self, task):\n",
    "        self.task = task\n",
    "    def __enter__(self):\n",
    "        self.start = time()\n",
    "        self.dircontents = os.listdir()\n",
    "        \n",
    "    def __exit__(self, exception_type, exception_value, traceback):\n",
    "        self.end = time()\n",
    "        print(f\"{self.task} took {self.end - self.start} seconds to complete.\")\n",
    "        for f in os.listdir():\n",
    "            if f not in self.dircontents: os.remove(f)"
   ]
  },
  {
   "cell_type": "markdown",
   "metadata": {},
   "source": [
    "*You may test your timer with the cell below* "
   ]
  },
  {
   "cell_type": "code",
   "execution_count": null,
   "metadata": {},
   "outputs": [],
   "source": [
    "with Timer('Making 10 files'):\n",
    "    for i in range(10):\n",
    "        f = open('file{}.txt'.format(i), 'w+b')\n",
    "        f.close()"
   ]
  },
  {
   "cell_type": "markdown",
   "metadata": {},
   "source": [
    "## Code Challenge: `single_thread_download`\n",
    "* input:\n",
    "    1. `url` - a string that holds the location of the resource to download\n",
    "    1. `filename` - the name of a new file to create which should hold the contents of the url\n",
    "\n",
    "`single_thread_download` will not have any output, but should make an http request and write the content of the response to a new file."
   ]
  },
  {
   "cell_type": "code",
   "execution_count": null,
   "metadata": {},
   "outputs": [],
   "source": [
    "def single_thread_download(url, filename):\n",
    "    pass"
   ]
  },
  {
   "cell_type": "markdown",
   "metadata": {},
   "source": [
    "## Code Challenge: `thread_handler`\n",
    "The threading module allows us to create a new thread and pass it a function to execute. Below, we will write the function that we'd like each thread to run.\n",
    "\n",
    "* input:\n",
    "    1. `start_byte` - an integer representing the first byte to begin downloading from\n",
    "    1. `end_byte` - an integer representing the last byte to end downloading at\n",
    "    1. `url` - a string\n",
    "    1. `filename` - a string, the name of the file to write the retreived content to\n",
    "    \n",
    "`thread_handler` won't have any output. Your function should make an http get request (you may use the requests module) to the url provided. You should pass custom headers that specify which portion of the resource you would like to download (look into the [Range header](https://developer.mozilla.org/en-US/docs/Web/HTTP/Headers/Range)).\n",
    "\n",
    "once the (partial) resource is retrieved, `thread_handler` should write to the file specified by `filename`. You should begin writing at `start_byte` (look into [seek](http://python-reference.readthedocs.io/en/latest/docs/file/seek.html))."
   ]
  },
  {
   "cell_type": "code",
   "execution_count": null,
   "metadata": {},
   "outputs": [],
   "source": [
    "def thread_handler(start_byte, end_byte, url, filename):\n",
    "    pass"
   ]
  },
  {
   "cell_type": "markdown",
   "metadata": {},
   "source": [
    "*If your thread_handler is working, you should have a new file in this directory. Don't worry if you can't open the file - because we only downloaded the first 10 bytes it shouldn't be openable.*"
   ]
  },
  {
   "cell_type": "code",
   "execution_count": null,
   "metadata": {},
   "outputs": [],
   "source": [
    "ex_thread = threading.Thread(target=thread_handler, args=(0,10,LANDSAT_URL,'landsat_ex.tiff'))\n",
    "ex_thread.start()"
   ]
  },
  {
   "cell_type": "markdown",
   "metadata": {},
   "source": [
    "*You may use the cell below to remove the file we just created to test our thread handler*"
   ]
  },
  {
   "cell_type": "code",
   "execution_count": null,
   "metadata": {},
   "outputs": [],
   "source": [
    "os.remove('landsat_ex.tiff')"
   ]
  },
  {
   "cell_type": "markdown",
   "metadata": {},
   "source": [
    "## Code Challenge: `threaded_download`\n",
    "* input:\n",
    "    1. `url` - same as earlier\n",
    "    1. `filename` - same as earlier\n",
    "    1. `n_threads` - number of threads to use in downloading the resource located at `url`\n",
    "    \n",
    "`threaded_download` shouldn't have any output. First, make an http HEAD request to the url provided. (this http method will retrieve the headers that would normally be included in the response to a get request. This allows us to view the metadata about a resource without actually retrieving the resource itself.)\n",
    "\n",
    "Use the response to our head request to determine the number of bytes in the resource stored at `url`. (should be under the key \"content-length\"). Each thread we will create should be responsible for downloading `ceil(content-length / n_threads)` bytes.\n",
    "\n",
    "Create and start each thread. Afterwards, use `thread.join` to ensure the function doesn't terminate till each thread has completed its task."
   ]
  },
  {
   "cell_type": "code",
   "execution_count": null,
   "metadata": {},
   "outputs": [],
   "source": [
    "def threaded_download(url, filename, n_threads=4):\n",
    "    pass"
   ]
  },
  {
   "cell_type": "markdown",
   "metadata": {},
   "source": [
    "*The code below should time how long it takes to download a ~230MB file using a single thread. If your timer works correctly, it should also take care of removing the file we just downloaded.*"
   ]
  },
  {
   "cell_type": "code",
   "execution_count": null,
   "metadata": {},
   "outputs": [],
   "source": [
    "with Timer('Single threaded download'):\n",
    "    single_thread_download(LANDSAT_URL, 'landsat_one_thread.tiff')"
   ]
  },
  {
   "cell_type": "markdown",
   "metadata": {},
   "source": [
    "*The code below should time how long it takes to downlaod a ~230MB file using four threads.*"
   ]
  },
  {
   "cell_type": "code",
   "execution_count": null,
   "metadata": {},
   "outputs": [],
   "source": [
    "with Timer('Four threaded download'):\n",
    "    threaded_download(LANDSAT_URL, 'landsat_4_threads.tiff')"
   ]
  }
 ],
 "metadata": {
  "kernelspec": {
   "display_name": "Python 3",
   "language": "python",
   "name": "python3"
  },
  "language_info": {
   "codemirror_mode": {
    "name": "ipython",
    "version": 3
   },
   "file_extension": ".py",
   "mimetype": "text/x-python",
   "name": "python",
   "nbconvert_exporter": "python",
   "pygments_lexer": "ipython3",
   "version": "3.6.4"
  },
  "toc": {
   "nav_menu": {},
   "number_sections": true,
   "sideBar": false,
   "skip_h1_title": false,
   "title_cell": "Table of Contents",
   "title_sidebar": "Contents",
   "toc_cell": true,
   "toc_position": {},
   "toc_section_display": true,
   "toc_window_display": false
  }
 },
 "nbformat": 4,
 "nbformat_minor": 2
}
