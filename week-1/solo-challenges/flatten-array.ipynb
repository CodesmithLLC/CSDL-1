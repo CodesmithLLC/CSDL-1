{
 "cells": [
  {
   "cell_type": "markdown",
   "metadata": {
    "toc": true
   },
   "source": [
    "<h1>Table of Contents<span class=\"tocSkip\"></span></h1>\n",
    "<div class=\"toc\"><ul class=\"toc-item\"><li><span><a href=\"#Flatten-Array\" data-toc-modified-id=\"Flatten-Array-1\"><span class=\"toc-item-num\">1&nbsp;&nbsp;</span>Flatten Array</a></span></li><li><span><a href=\"#Extensions\" data-toc-modified-id=\"Extensions-2\"><span class=\"toc-item-num\">2&nbsp;&nbsp;</span>Extensions</a></span><ul class=\"toc-item\"><li><span><a href=\"#Code-Challenge:-array_elements\" data-toc-modified-id=\"Code-Challenge:-array_elements-2.1\"><span class=\"toc-item-num\">2.1&nbsp;&nbsp;</span>Code Challenge: <code>array_elements</code></a></span></li><li><span><a href=\"#Code-Challenge:-Improved-Array-Broadcasting\" data-toc-modified-id=\"Code-Challenge:-Improved-Array-Broadcasting-2.2\"><span class=\"toc-item-num\">2.2&nbsp;&nbsp;</span>Code Challenge: Improved Array Broadcasting</a></span></li></ul></li></ul></div>"
   ]
  },
  {
   "cell_type": "markdown",
   "metadata": {},
   "source": [
    "# Flatten Array"
   ]
  },
  {
   "cell_type": "markdown",
   "metadata": {},
   "source": [
    "Write a function that accepts an `Array` and returns a flattened `Array`. For example:\n",
    "\n",
    "1. `flatten(Array([[1,2,3], [4,5,6]])) == Array([1,2,3,4,5,6])`, and\n",
    "1. `flatten(Array([[[80],[-3]], [[71], [22]]])) == Array([80,-3,71,22])`"
   ]
  },
  {
   "cell_type": "code",
   "execution_count": null,
   "metadata": {},
   "outputs": [],
   "source": [
    "from numpybase import Shaped, SinglyTyped\n",
    "\n",
    "class Array(Shaped, SinglyTyped):\n",
    "    def __init__(self, l):\n",
    "        super().__init__(l)\n",
    "\n",
    "def flatten(arr):\n",
    "    pass"
   ]
  },
  {
   "cell_type": "markdown",
   "metadata": {},
   "source": [
    "# Extensions"
   ]
  },
  {
   "cell_type": "markdown",
   "metadata": {},
   "source": [
    "Python generators are very useful for machine learning engineers. When training a machine learning model on a large data set, it's often impractical or impossible to hold all of the training data in memory at once. We can use generators to store small batches of data in memory at a time, cycling through the entire data set as many times as we need."
   ]
  },
  {
   "cell_type": "markdown",
   "metadata": {},
   "source": [
    "In this challenge, we'll use generators a bit differently. We will use a Python generator to help us achieve the broadcasting functionality of NumPy without taking up more memory than necessary."
   ]
  },
  {
   "cell_type": "markdown",
   "metadata": {},
   "source": [
    "##  Code Challenge: `array_elements`"
   ]
  },
  {
   "cell_type": "markdown",
   "metadata": {},
   "source": [
    "Create a generator that yields each element in an `Array` in the same order they would appear in a flattened array. We'd like this generator to be space efficient even when generating the elements of a very large array, so please refrain from creating a flattened copy of the input array."
   ]
  },
  {
   "cell_type": "code",
   "execution_count": null,
   "metadata": {},
   "outputs": [],
   "source": [
    "def array_elements(arr):\n",
    "    pass"
   ]
  },
  {
   "cell_type": "markdown",
   "metadata": {},
   "source": [
    "## Code Challenge: Improved Array Broadcasting"
   ]
  },
  {
   "cell_type": "markdown",
   "metadata": {},
   "source": [
    "Can you use generators to improve upon your implementation of `__add__` from yesterday? Can you extend your `Array` class to support multiplication, division, comparison operations like <=, etc.? If you find that writing these implentations becomes repetetive, can you abstract the work of producing these magic methods into a separate function?"
   ]
  }
 ],
 "metadata": {
  "kernelspec": {
   "display_name": "Python 3",
   "language": "python",
   "name": "python3"
  },
  "language_info": {
   "codemirror_mode": {
    "name": "ipython",
    "version": 3
   },
   "file_extension": ".py",
   "mimetype": "text/x-python",
   "name": "python",
   "nbconvert_exporter": "python",
   "pygments_lexer": "ipython3",
   "version": "3.6.4"
  },
  "toc": {
   "nav_menu": {},
   "number_sections": true,
   "sideBar": false,
   "skip_h1_title": false,
   "title_cell": "Table of Contents",
   "title_sidebar": "Contents",
   "toc_cell": true,
   "toc_position": {},
   "toc_section_display": true,
   "toc_window_display": false
  }
 },
 "nbformat": 4,
 "nbformat_minor": 2
}
