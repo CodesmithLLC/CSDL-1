{
 "cells": [
  {
   "cell_type": "markdown",
   "metadata": {
    "toc": true
   },
   "source": [
    "<h1>Table of Contents<span class=\"tocSkip\"></span></h1>\n",
    "<div class=\"toc\"><ul class=\"toc-item\"><li><span><a href=\"#Dense-Neural-Networks\" data-toc-modified-id=\"Dense-Neural-Networks-1\"><span class=\"toc-item-num\">1&nbsp;&nbsp;</span>Dense Neural Networks</a></span></li><li><span><a href=\"#Code-Challenge:-Neuron\" data-toc-modified-id=\"Code-Challenge:-Neuron-2\"><span class=\"toc-item-num\">2&nbsp;&nbsp;</span>Code Challenge: <code>Neuron</code></a></span><ul class=\"toc-item\"><li><span><a href=\"#Part-One:-__init__\" data-toc-modified-id=\"Part-One:-__init__-2.1\"><span class=\"toc-item-num\">2.1&nbsp;&nbsp;</span>Part One: <code>__init__</code></a></span></li><li><span><a href=\"#Part-Two:-activate\" data-toc-modified-id=\"Part-Two:-activate-2.2\"><span class=\"toc-item-num\">2.2&nbsp;&nbsp;</span>Part Two: <code>activate</code></a></span></li><li><span><a href=\"#Part-Three:-evaluate\" data-toc-modified-id=\"Part-Three:-evaluate-2.3\"><span class=\"toc-item-num\">2.3&nbsp;&nbsp;</span>Part Three: <code>evaluate</code></a></span></li></ul></li><li><span><a href=\"#Code-Challenge:-Neurons-for-Binary-Classification\" data-toc-modified-id=\"Code-Challenge:-Neurons-for-Binary-Classification-3\"><span class=\"toc-item-num\">3&nbsp;&nbsp;</span>Code Challenge: Neurons for Binary Classification</a></span><ul class=\"toc-item\"><li><span><a href=\"#Part-One:-Cats-and-Dogs\" data-toc-modified-id=\"Part-One:-Cats-and-Dogs-3.1\"><span class=\"toc-item-num\">3.1&nbsp;&nbsp;</span>Part One: Cats and Dogs</a></span></li><li><span><a href=\"#Part-Two:-Cattle\" data-toc-modified-id=\"Part-Two:-Cattle-3.2\"><span class=\"toc-item-num\">3.2&nbsp;&nbsp;</span>Part Two: Cattle</a></span></li></ul></li><li><span><a href=\"#Background:-Dense-Neural-Networks\" data-toc-modified-id=\"Background:-Dense-Neural-Networks-4\"><span class=\"toc-item-num\">4&nbsp;&nbsp;</span>Background: Dense Neural Networks</a></span><ul class=\"toc-item\"><li><span><a href=\"#Feed-Forward\" data-toc-modified-id=\"Feed-Forward-4.1\"><span class=\"toc-item-num\">4.1&nbsp;&nbsp;</span>Feed Forward</a></span></li></ul></li><li><span><a href=\"#Code-Challenge:-DenseNeuralNet\" data-toc-modified-id=\"Code-Challenge:-DenseNeuralNet-5\"><span class=\"toc-item-num\">5&nbsp;&nbsp;</span>Code Challenge: <code>DenseNeuralNet</code></a></span><ul class=\"toc-item\"><li><span><a href=\"#Part-One:-__init__\" data-toc-modified-id=\"Part-One:-__init__-5.1\"><span class=\"toc-item-num\">5.1&nbsp;&nbsp;</span>Part One: <code>__init__</code></a></span></li><li><span><a href=\"#Part-Two:-activate\" data-toc-modified-id=\"Part-Two:-activate-5.2\"><span class=\"toc-item-num\">5.2&nbsp;&nbsp;</span>Part Two: <code>activate</code></a></span></li><li><span><a href=\"#Part-Three:-predict\" data-toc-modified-id=\"Part-Three:-predict-5.3\"><span class=\"toc-item-num\">5.3&nbsp;&nbsp;</span>Part Three: <code>predict</code></a></span></li></ul></li><li><span><a href=\"#Extensions\" data-toc-modified-id=\"Extensions-6\"><span class=\"toc-item-num\">6&nbsp;&nbsp;</span>Extensions</a></span><ul class=\"toc-item\"><li><span><a href=\"#California-Homes\" data-toc-modified-id=\"California-Homes-6.1\"><span class=\"toc-item-num\">6.1&nbsp;&nbsp;</span>California Homes</a></span></li><li><span><a href=\"#XOR-Network\" data-toc-modified-id=\"XOR-Network-6.2\"><span class=\"toc-item-num\">6.2&nbsp;&nbsp;</span>XOR Network</a></span></li><li><span><a href=\"#Columbus,-Ohio-Voters\" data-toc-modified-id=\"Columbus,-Ohio-Voters-6.3\"><span class=\"toc-item-num\">6.3&nbsp;&nbsp;</span>Columbus, Ohio Voters</a></span></li></ul></li></ul></div>"
   ]
  },
  {
   "cell_type": "markdown",
   "metadata": {},
   "source": [
    "# Dense Neural Networks"
   ]
  },
  {
   "cell_type": "markdown",
   "metadata": {},
   "source": [
    "In this notebook, we will develop the theory of dense neural networks, and apply this theory by creating our own neural networks with nothing but Python and NumPy. Let's start with a discussion about the building blocks for neural networks: the artificial neuron."
   ]
  },
  {
   "cell_type": "markdown",
   "metadata": {},
   "source": [
    "Consider a simple machine that takes two inputs (called $x$ and $y$), and produces a single output, either 0 or 1. Our machine follows simple rules to determine what to output:\n",
    "1. The machine stores three constant numbers: $w_x,\\ w_y$, and $b$.\n",
    "2. If $(w_x * x) + (w_y * y) + b \\geq 0$, the machine outputs 1. Otherwise, the machine outputs 0.\n",
    "\n",
    "We can represent this machine with a picture:"
   ]
  },
  {
   "cell_type": "markdown",
   "metadata": {},
   "source": [
    "<img src=\"images/neuron.png\" alt=\"A simple artificial neuron\" style=\"width: 250px;\"/>"
   ]
  },
  {
   "cell_type": "markdown",
   "metadata": {},
   "source": [
    "We call such a machine an artificial neuron because it's a simplified model of how biological neurons work. Like a biological neuron, an artificial neuron receives input signals of varying strengths from other neurons (or the outside world), and if the input signals pass some threshold, the neuron will activate, passing a signal along to other neurons."
   ]
  },
  {
   "cell_type": "markdown",
   "metadata": {},
   "source": [
    "In our artificial model, the values $w_x$ and $w_y$ are called the neuron's *weights* and the value $b$ is called the neuron's *bias*. What are some things we can do with artificial neurons?\n",
    "\n",
    "1. We can make an artificial neuron behave like an [OR logic gate](https://en.wikipedia.org/wiki/OR_gate). Consider $w_x = w_y = 1$ and $b = -\\frac{1}{2}$. What will the input $x = 0,\\ y = 0$ produce? How about $x = 1,\\ y = 0$ or $x = 1,\\ y = 1$?\n",
    "1. Can you change $w_x,\\ w_y,$ and $b$ to make an artificial neuron that acts like an [AND gate](https://en.wikipedia.org/wiki/AND_gate)?\n",
    "1. How about an [XOR gate](https://en.wikipedia.org/wiki/XOR_gate)?"
   ]
  },
  {
   "cell_type": "markdown",
   "metadata": {},
   "source": [
    "We can also create neurons with more than (or less than) two inputs. Imagine a neuron that had one input for each pixel in a 3x3 black and white image. Could you come up with a way to use this neuron to detect vertical white lines that pass through the center of this image?"
   ]
  },
  {
   "cell_type": "markdown",
   "metadata": {},
   "source": [
    "As another example, the neuron below receives three inputs and acts like the function EVERY - it outputs a 1 if every input is 1, and outputs 0 if any of the inputs are 0."
   ]
  },
  {
   "cell_type": "markdown",
   "metadata": {},
   "source": [
    "<img src=\"images/every-neuron.png\" alt=\"A simple artificial neuron\" style=\"width: 250px;\"/>"
   ]
  },
  {
   "cell_type": "markdown",
   "metadata": {},
   "source": [
    "# Code Challenge: `Neuron`"
   ]
  },
  {
   "cell_type": "markdown",
   "metadata": {},
   "source": [
    "Below, we'll create a class to represent an artificial neuron. The descriptions for each method are provided first, and below that you will find a code cell to complete the `Neuron` class."
   ]
  },
  {
   "cell_type": "markdown",
   "metadata": {},
   "source": [
    "## Part One: `__init__`"
   ]
  },
  {
   "cell_type": "markdown",
   "metadata": {},
   "source": [
    "**Function Description**   \n",
    "This function should initialize the `self.weights` and `self.bias` attributes. If no weights are provided, use the `np.random` module to assign `self.weights` to a numpy array with two random values between -1 and 1. Similarly, if no bias is provided, use the `np.random` module again to assign `self.bias` to a random float between -1 and 1.\n",
    "\n",
    "**Function Input**\n",
    "\n",
    "1. `weights`: A list or array that holds two floats, which represent the weights for each input to the neuron. 1. `bias`: A single float that represents the bias of the neuron.\n",
    "\n",
    "**Function Output**\n",
    "\n",
    "`__init__` shouldn't output anything."
   ]
  },
  {
   "cell_type": "markdown",
   "metadata": {},
   "source": [
    "## Part Two: `activate`"
   ]
  },
  {
   "cell_type": "markdown",
   "metadata": {},
   "source": [
    "**Function Description**\n",
    "\n",
    "Before talking about the `activate` function, let's define the term **weighted input**. Weighted input is a floating point value that represents the result of applying the weights to the inputs, summing up the results, and adding the bias. For instance, consider the neuron below with inputs $x=2$ and $y=0.5$."
   ]
  },
  {
   "cell_type": "markdown",
   "metadata": {},
   "source": [
    "<img src=\"images/neuron-with-weights-bias.png\" alt=\"A simple artificial neuron\" style=\"width: 250px;\"/>"
   ]
  },
  {
   "cell_type": "markdown",
   "metadata": {},
   "source": [
    "The weighted input would be $(1.5 x) + (0.8 y) + b = (1.5\\times 2) + (0.8\\times 0.5) - 1 = 2.4$.\n",
    "\n",
    "The activate function determines the output of the nueron. It will accept the weighted input of the neuron and will return $1$ if the weighted input is greater than $0$ and will return $0$ otherwise.\n",
    "\n",
    "**Function Input**\n",
    "\n",
    "1. `weighted_input`: A float representing the neurons weighted input.\n",
    "\n",
    "**Function Output**\n",
    "\n",
    "1. `activation`: A value (either $0$ or $1$) indicating whether or not the neuron is activated."
   ]
  },
  {
   "cell_type": "markdown",
   "metadata": {},
   "source": [
    "## Part Three: `evaluate`"
   ]
  },
  {
   "cell_type": "markdown",
   "metadata": {},
   "source": [
    "**Function Description**\n",
    "\n",
    "`evaluate` will accept the raw, unweighted input to the neuron, apply the weights and bias, and determine whether or not the neuron activates. Your `evaluate` function should use the `activate` method from part 2. You may also want to look into the `np.dot` method.\n",
    "\n",
    "**Function Input**\n",
    "\n",
    "1. `raw_input`: A list or array of numbers representing the neuron's input values.\n",
    "\n",
    "**Function Output**\n",
    "\n",
    "1. `activation`: A value (either 0 or 1) indicating whether or not the neuron is activated."
   ]
  },
  {
   "cell_type": "code",
   "execution_count": null,
   "metadata": {},
   "outputs": [],
   "source": [
    "# Run this cell to import numpy for use in the following cells\n",
    "import numpy as np"
   ]
  },
  {
   "cell_type": "code",
   "execution_count": null,
   "metadata": {},
   "outputs": [],
   "source": [
    "class Neuron:\n",
    "    def __init__(self, weights = None, bias = None):\n",
    "        pass\n",
    "    \n",
    "    def activate(self, weighted_input):\n",
    "        pass\n",
    "    \n",
    "    def evaluate(self, raw_input):\n",
    "        pass"
   ]
  },
  {
   "cell_type": "markdown",
   "metadata": {},
   "source": [
    "# Code Challenge: Neurons for Binary Classification"
   ]
  },
  {
   "cell_type": "markdown",
   "metadata": {},
   "source": [
    "Let's start using artificial neurons! For each of the problems below, you'll be given a labeled data set. Your job is to create a Neuron that correctly classifies each point in the dataset accurately by passing in appropriate weights and bias."
   ]
  },
  {
   "cell_type": "markdown",
   "metadata": {},
   "source": [
    "## Part One: Cats and Dogs"
   ]
  },
  {
   "cell_type": "markdown",
   "metadata": {},
   "source": [
    "Consider this small data set of cats and dogs:"
   ]
  },
  {
   "cell_type": "markdown",
   "metadata": {},
   "source": [
    "![ALT](images/cat-dog.png)"
   ]
  },
  {
   "cell_type": "markdown",
   "metadata": {},
   "source": [
    "In the cell below, alter the weights and bias of the neuron so that the neuron will output a 1 for the dog and a 0 for each of the cats. Note that the first weight corresponds to ear length and the second weight corresponds to animal weight."
   ]
  },
  {
   "cell_type": "code",
   "execution_count": null,
   "metadata": {},
   "outputs": [],
   "source": [
    "# Dog Detector\n",
    "# Replace the instances of None with proper weights and bias\n",
    "dog_detector = Neuron(weights = None, bias = None)\n",
    "\n",
    "def test_dog_detector():\n",
    "    assert dog_detector.evaluate([1.0,15.0]) == 0, \"fails on dog with [ear length, weight] == [1.0,15.0]\"\n",
    "    assert dog_detector.evaluate([1.0,25.0]) == 0, \"fails on dog with [ear length, weight] == [1.0,25.0]\"\n",
    "    assert dog_detector.evaluate([2.0,15.0]) == 0, \"fails on dog with [ear length, weight] == [2.0,15.0]\"\n",
    "    assert dog_detector.evaluate([2.0,25.0]) == 1, \"fails on dog with [ear length, weight] == [2.0,25.0]\"\n",
    "    print(\"All tests passing\")\n",
    "    \n",
    "test_dog_detector()"
   ]
  },
  {
   "cell_type": "markdown",
   "metadata": {},
   "source": [
    "## Part Two: Cattle"
   ]
  },
  {
   "cell_type": "markdown",
   "metadata": {},
   "source": [
    "Create a neuron that detects whether cattle are cows or bulls based on the data below. The neuron should output `1` for cow and `0` for bull."
   ]
  },
  {
   "cell_type": "markdown",
   "metadata": {},
   "source": [
    "![](images/cattle.png)"
   ]
  },
  {
   "cell_type": "code",
   "execution_count": null,
   "metadata": {},
   "outputs": [],
   "source": [
    "# Replace the instances of None with proper weights and bias\n",
    "cattle_detector = Neuron(weights = None, bias = None)\n",
    "\n",
    "def test_cattle_detector():\n",
    "    assert cattle_detector.evaluate([1.4, 703]) == 1, \"fails on cattle with [height, weight] == [1.4, 703]\"\n",
    "    assert cattle_detector.evaluate([1.45, 907]) == 0, \"fails on cattle with [height, weight] == [1.45, 907]\"\n",
    "    assert cattle_detector.evaluate([1.55, 831]) == 0, \"fails on cattle with [height, weight] == [1.55, 831]\"\n",
    "    assert cattle_detector.evaluate([1.58, 866]) == 0, \"fails on cattle with [height, weight] == [1.58, 866]\"\n",
    "    print(\"All tests passing\")\n",
    "    \n",
    "test_cattle_detector()"
   ]
  },
  {
   "cell_type": "markdown",
   "metadata": {},
   "source": [
    "# Background: Dense Neural Networks\n",
    "\n",
    "The utility of a single neuron is rather limited - no matter how many inputs it has, it can only output a 1 or a 0 (i.e. make a binary classification). What's more, it can't model even simple binary classification problems like XOR. Try as you might, no combination of weights and bias will produce a neuron that correctly classifies the data below:"
   ]
  },
  {
   "cell_type": "markdown",
   "metadata": {},
   "source": [
    "![](images/xor.png)"
   ]
  },
  {
   "cell_type": "markdown",
   "metadata": {},
   "source": [
    "Because of these limitations, machine learning engineers tend to work with groups of neurons, instead of individual neurons. We can perform more complex computational tasks by building networks of neurons. We accomplish this by connecting the output of one neuron to the input of another neuron. Consider the network below:"
   ]
  },
  {
   "cell_type": "markdown",
   "metadata": {},
   "source": [
    "<img src=\"images/xor-network.png\" alt=\"A simple artificial neuron\" style=\"width: 250px;\"/>"
   ]
  },
  {
   "cell_type": "markdown",
   "metadata": {},
   "source": [
    "The first layer made up of gray neurons is called the **input layer**. Neurons 1 and 2 make up a **hidden layer** (called hidden because it is neither the input layer nor the output layer). In larger network architectures, we might have many more hidden layers.\n",
    "\n",
    "Notice how each neuron in the hidden layer is connected to each neuron in the input layer. Because of this, we call the hidden layer a **fully connected layer** or a **dense layer**. Also note that two neurons within the same layer are never connected to one another.\n",
    "\n",
    "The final layer, made up of a single neuron (Neuron 3), is called the **output layer**, since it is the layer that is exposed at the end of the network. This layer is also dense since the neuron in the final layer is connected to each neuron in the hidden layer. The output layer need not have a single neuron - we could just as easily have an output layer made up of multiple neurons. Can you come up with a reason we might what more than a single neuron in the output layer? "
   ]
  },
  {
   "cell_type": "markdown",
   "metadata": {},
   "source": [
    "## Feed Forward"
   ]
  },
  {
   "cell_type": "markdown",
   "metadata": {},
   "source": [
    "Let's walk through an example for how we would pass the input [1,0] (i.e x = 1, y = 0) through the network above. We call this process **feed forward, inference**, or **prediction**.\n",
    "\n",
    "1. Hidden layer:\n",
    "    * Neuron 1 calculates `1*x + 1*y - 0.5 = 1 + 0 - 0.5 = 0.5`. Since this is larger than 0, Neuron 1 will activate, and output a 1.\n",
    "    * Neuron 2 calculates `(-1 * x) + (-1 * y) + 1.5 = -1 + 0 + 1.5 = 0.5`. Since this is larger than 0, Neuron 2 will also activate and output a 1.\n",
    "1. Output layer:\n",
    "    * Neuron 3 calculates `1 * neuron_1_output + 1 * neuron_2_output - 1.5 = 1 + 1 - 1.5 = 0.5`. Since this is greater than 0, Neuron 3 will output a 1!"
   ]
  },
  {
   "cell_type": "markdown",
   "metadata": {},
   "source": [
    "# Code Challenge: `DenseNeuralNet`\n",
    "In the challenges below, we will create a dense neural network class that's capable of performing the feed forward functionality described above.\n",
    "\n",
    "Below, you will find the descriptions for each method you will impliment, followed by a code cell to write your code in."
   ]
  },
  {
   "cell_type": "markdown",
   "metadata": {},
   "source": [
    "## Part One: `__init__`"
   ]
  },
  {
   "cell_type": "markdown",
   "metadata": {},
   "source": [
    "**Function Description**\n",
    "\n",
    "`__init__` will take a tuple of integers as input, describing the shape of the network to create. For example, a network with shape `(20,8,5,1)` would have an input layer with 20 neurons, followed by a hidden layer with 8 neurons, followed by a hidden layer with 5 neurons, followed by the output layer with a single neuron.\n",
    "\n",
    "`__init__` will initialze the weights and biases for each layer in the network. `self.weights` should be a python list that holds a number of NumPy arrays. Each NumPy array in `self.weights` describes the weights for all the neurons in a single layer of the network. Likewise, `self.biases` should be a python list that holds a number of NumPy arrays. Each NumPy array in `self.biases` describes the biases for all the neurons in a single layer. Consider the network below:"
   ]
  },
  {
   "cell_type": "markdown",
   "metadata": {},
   "source": [
    "![](images/NN to weights and biases.png)"
   ]
  },
  {
   "cell_type": "markdown",
   "metadata": {},
   "source": [
    "This network has shape `(2,3,1)` since there are two inputs, three neurons in the hidden layer, and one neuron in the output layer. Consider the first NumPy array in `self.weights`. This array stores the weights for each neuron in the first hidden layer. Each row corresponds to a single neuron. Note, for instance, that the first green row stores the weights for the first green neuron. Each column in the array corresponds to a neuron in the preceding layer. For instance, the first column holds the values `1, 2,` and `3`. These values correspond to the weights applied to the output from the first neuron in the input layer. In general, the shape of the array that stores the weights for a layer will be `(number_neurons_in_layer, number_neurons_in_preceding_layer)`."
   ]
  },
  {
   "cell_type": "markdown",
   "metadata": {},
   "source": [
    "Each array in `self.biases` should have the shape `(number_neurons_in_layer, 1)`. Each row in the array holds the bias for one neuron in the layer."
   ]
  },
  {
   "cell_type": "markdown",
   "metadata": {},
   "source": [
    "The sole job of `__init__` is to initialize `self.weights` and `self.biases`. The arrays in `self.weights` and `self.biases` should all have the proper shapes according to the number of neurons in each layer, and should be populated with random numbers between `-1` and `1`."
   ]
  },
  {
   "cell_type": "markdown",
   "metadata": {},
   "source": [
    "**Function Input**\n",
    "\n",
    "1. `shape`: a tuple describing the number of neurons in each layer of the network."
   ]
  },
  {
   "cell_type": "markdown",
   "metadata": {},
   "source": [
    "**Function Output**\n",
    "\n",
    "This function won't return anything."
   ]
  },
  {
   "cell_type": "markdown",
   "metadata": {},
   "source": [
    "## Part Two: `activate`"
   ]
  },
  {
   "cell_type": "markdown",
   "metadata": {},
   "source": [
    "**Function Description**\n",
    "\n",
    "`activate` should will accept the weighted inputs to a layer and will output the corresponding activations."
   ]
  },
  {
   "cell_type": "markdown",
   "metadata": {},
   "source": [
    "**Function Input**\n",
    "\n",
    "1. `weighted_inputs`: a numpy array with shape `(number_neurons_in_layer,)` representing the weighted inputs to each neuron in each layer."
   ]
  },
  {
   "cell_type": "markdown",
   "metadata": {},
   "source": [
    "**Function Output**\n",
    "\n",
    "1. `activations`: a NumPy array with shape `(number_neurons_in_layer,)` that holds 0's and 1's, representing the activation of each neuron in a layer. "
   ]
  },
  {
   "cell_type": "markdown",
   "metadata": {},
   "source": [
    "## Part Three: `predict`"
   ]
  },
  {
   "cell_type": "markdown",
   "metadata": {},
   "source": [
    "**Function Description**\n",
    "\n",
    "`predict` accepts an array with one or more observations to pass through the network. The shape of the input array will be `(number_observations, number_neurons_in_input_layer)`. Predict will output an array with shape `(number_observations, number_neurons_in_final_layer)`.\n",
    "\n",
    "`predict` will pass each observation through the first hidden layer, then it will pass the activations from the hidden layer onto the next layer, and so on."
   ]
  },
  {
   "cell_type": "markdown",
   "metadata": {},
   "source": [
    "**Function Input**\n",
    "\n",
    "1. `X`: a NumPy array with shape `(number_observations, number_neurons_in_input_layer)`"
   ]
  },
  {
   "cell_type": "markdown",
   "metadata": {},
   "source": [
    "**Function Output**\n",
    "\n",
    "1. `predictions`: An array of predictions with shape `(number_observations, number_neurons_in_final_layer)`"
   ]
  },
  {
   "cell_type": "code",
   "execution_count": null,
   "metadata": {},
   "outputs": [],
   "source": [
    "class DenseNeuralNet:\n",
    "    def __init__(self, shape=(2,3,1)):\n",
    "        pass\n",
    "    \n",
    "    def activate(self, weighted_inputs):\n",
    "        pass\n",
    "    \n",
    "    def predict(self, X):\n",
    "        pass"
   ]
  },
  {
   "cell_type": "code",
   "execution_count": null,
   "metadata": {},
   "outputs": [],
   "source": [
    "# Run this cell to test your \n",
    "\n",
    "def test_DenseNeuralNet():\n",
    "    xor_network = DenseNeuralNet(shape=(2,2,1))\n",
    "    # override weights with xor network weights\n",
    "    xor_network.weights = [\n",
    "        np.array([\n",
    "            [1,1],\n",
    "            [-1, -1]\n",
    "        ]),\n",
    "        np.array([\n",
    "            [1, 1]\n",
    "        ])\n",
    "    ]\n",
    "    # override biases with xor network biases\n",
    "    xor_network.biases = [\n",
    "        np.array([\n",
    "            [-0.5],\n",
    "            [1.5]\n",
    "        ]),\n",
    "        np.array([\n",
    "            [-1.5]\n",
    "        ])\n",
    "    ]\n",
    "    \n",
    "    predictions = xor_network.predict([\n",
    "        [0,0],\n",
    "        [1,0],\n",
    "        [0,1],\n",
    "        [1,1]\n",
    "    ])\n",
    "    \n",
    "    desired = np.array([\n",
    "        [0],\n",
    "        [1],\n",
    "        [1],\n",
    "        [0]\n",
    "    ])\n",
    "    \n",
    "    assert np.array_equal(predictions, desired), \"\\nWanted: \\n\" + str(desired) + \"\\n\\n Got: \\n\" + str(predictions)\n",
    "    print(\"DenseNeuralNet is passing tests\")\n",
    "    \n",
    "test_DenseNeuralNet()"
   ]
  },
  {
   "cell_type": "markdown",
   "metadata": {},
   "source": [
    "# Extensions"
   ]
  },
  {
   "cell_type": "markdown",
   "metadata": {},
   "source": [
    "## California Homes"
   ]
  },
  {
   "cell_type": "markdown",
   "metadata": {},
   "source": [
    "Determine weights and bias for a neuron to properly classify which neighborhood homes in Southern California belong to based on their price and square footage."
   ]
  },
  {
   "cell_type": "markdown",
   "metadata": {},
   "source": [
    "![](images/california-homes.png)"
   ]
  },
  {
   "cell_type": "markdown",
   "metadata": {},
   "source": [
    "The home data is provided in the cell below. The first column corresponds to square footage, the second column is price, and the third is the neighborhood (0 = Ocean Side, 1 = San Marcos)."
   ]
  },
  {
   "cell_type": "code",
   "execution_count": null,
   "metadata": {},
   "outputs": [],
   "source": [
    "homes_data = np.load('data/california-homes.npy')\n",
    "\n",
    "# Assign weights/bias below\n",
    "neighborhood = Neuron(weights=None, bias=None)\n",
    "\n",
    "def test_neighborhood_detector():\n",
    "    data = np.load('data/california-homes.npy')\n",
    "    for house in data:\n",
    "        assert neighborhood.evaluate(house[:2]) == house[2]\n",
    "    print(\"All tests passing\")"
   ]
  },
  {
   "cell_type": "markdown",
   "metadata": {},
   "source": [
    "## XOR Network\n",
    "\n",
    "Create a dense neural network that behaves like an XOR logic gate. You may use the same network size, but find different weights and biases from the ones used in the test case above."
   ]
  },
  {
   "cell_type": "code",
   "execution_count": null,
   "metadata": {},
   "outputs": [],
   "source": [
    "# Create xor_network here\n",
    "# Replace random weights/bias with parameters that will properly classify data"
   ]
  },
  {
   "cell_type": "markdown",
   "metadata": {},
   "source": [
    "## Columbus, Ohio Voters"
   ]
  },
  {
   "cell_type": "markdown",
   "metadata": {},
   "source": [
    "Create a Neural network capable of determining whether a voter in Columbus, Ohio, is likely a democrat or a republican."
   ]
  },
  {
   "cell_type": "markdown",
   "metadata": {},
   "source": [
    "![](images/ohio-voters.png)"
   ]
  },
  {
   "cell_type": "markdown",
   "metadata": {},
   "source": [
    "The voter data is provided in the cell below. The first column is the miles east of epicenter feature, the next column is the miles north of epicenter feature, and the last column is the label (0 = democrat, 1 = republican)."
   ]
  },
  {
   "cell_type": "code",
   "execution_count": null,
   "metadata": {},
   "outputs": [],
   "source": [
    "voter_data = np.load(\"data/ohio-voters.npy\")\n",
    "\n",
    "# Create voter_model below.\n",
    "# Replace random weights/bias with parameters that will properly classify data"
   ]
  }
 ],
 "metadata": {
  "kernelspec": {
   "display_name": "Python 3",
   "language": "python",
   "name": "python3"
  },
  "language_info": {
   "codemirror_mode": {
    "name": "ipython",
    "version": 3
   },
   "file_extension": ".py",
   "mimetype": "text/x-python",
   "name": "python",
   "nbconvert_exporter": "python",
   "pygments_lexer": "ipython3",
   "version": "3.6.4"
  },
  "toc": {
   "nav_menu": {},
   "number_sections": true,
   "sideBar": true,
   "skip_h1_title": false,
   "title_cell": "Table of Contents",
   "title_sidebar": "Contents",
   "toc_cell": true,
   "toc_position": {},
   "toc_section_display": true,
   "toc_window_display": false
  }
 },
 "nbformat": 4,
 "nbformat_minor": 2
}
