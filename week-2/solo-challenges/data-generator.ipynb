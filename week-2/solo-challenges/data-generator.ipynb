{
 "cells": [
  {
   "cell_type": "markdown",
   "metadata": {
    "toc": true
   },
   "source": [
    "<h1>Table of Contents<span class=\"tocSkip\"></span></h1>\n",
    "<div class=\"toc\"><ul class=\"toc-item\"><li><span><a href=\"#Data-Generators\" data-toc-modified-id=\"Data-Generators-1\"><span class=\"toc-item-num\">1&nbsp;&nbsp;</span>Data Generators</a></span><ul class=\"toc-item\"><li><span><a href=\"#one_hot\" data-toc-modified-id=\"one_hot-1.1\"><span class=\"toc-item-num\">1.1&nbsp;&nbsp;</span><code>one_hot</code></a></span></li><li><span><a href=\"#The-Generator-Class\" data-toc-modified-id=\"The-Generator-Class-1.2\"><span class=\"toc-item-num\">1.2&nbsp;&nbsp;</span>The Generator Class</a></span></li></ul></li></ul></div>"
   ]
  },
  {
   "cell_type": "markdown",
   "metadata": {},
   "source": [
    "# Data Generators\n",
    "We will be working with high volumes of data, which we won't be able to hold in memory all at once. Below, we will develop a DataGenerator class that will allow us to load batches of data into memory without loading all of the data at once.\n",
    "\n",
    "Our generator class will be used to load image data stored in the directory `fashionmnist`. Each file contains pixel data for a 28 x 28 image of a piece of clothing. The file `labels.npy` contains an array of integers, where each integer represents a type of clothing (e.g. the integer in index 5 of the labels array represents the category of the image contained in 5.npy).\n",
    "\n",
    "## `one_hot`\n",
    "Rather than represent labels with integers 0-9, we'd like to use one-hot encoding to represent each label with a 10-dimensional vector, where the value stored at each index is 0, except for one index whose value is 1. Write a function, `one_hot`, which accepts an array of integers and the number of labels in the array, and returns a numpy array of one-hot encoded vectors."
   ]
  },
  {
   "cell_type": "code",
   "execution_count": null,
   "metadata": {},
   "outputs": [],
   "source": [
    "from os import path\n",
    "\n",
    "def one_hot(labels, n_classes = 2):\n",
    "    pass"
   ]
  },
  {
   "cell_type": "markdown",
   "metadata": {},
   "source": [
    "## The Generator Class\n",
    "\n",
    "1. `__init__`: \n",
    "    * Initialize attributes corresponding to the arguments passed to init\n",
    "1. `_get_order_for_epoch`:\n",
    "    * An epoch represents one complete cycle through the available data\n",
    "    * One epoch = (n_observations / batch_size)\n",
    "    * `_get_order_for_epoch` should return a list of integers from 0 to (n_observations - 1)\n",
    "        * This list should be randomly shuffled\n",
    "1. `_get_data`:\n",
    "    * Should retrieve the training observations and corresponding labels for a batch of training data from the file system\n",
    "    * `_get_data` will be provided a list of `ids` for which training observations to include in the batch\n",
    "    * `_get_data` should return a tuple `(X,y)` holding the training observations and labels as specified by the  list of `ids`\n",
    "    * Make sure the labels are one-hot encoded\n",
    "1. `generate`:\n",
    "    * Yields tuples (X, y)\n",
    "    * Each training observation should appear exactly once each epoch\n",
    "    * At the beginning of each epoch, use `_get_order_for_epoch` to determine the order of training observations\n",
    "    * For each batch, pass the ids for the current batch into use `_get_data`\n",
    "    * `generate` should generate data endlessly (it doesn't end after a set number of epochs)"
   ]
  },
  {
   "cell_type": "code",
   "execution_count": null,
   "metadata": {},
   "outputs": [],
   "source": [
    "class DataGenerator:\n",
    "    def __init__(self, directory = '.', dim_x = 28, dim_y = 28, batch_size = 30, n_observations=600, n_classes=10):\n",
    "        pass\n",
    "    \n",
    "    def _get_order_for_epoch(self):\n",
    "        pass\n",
    " \n",
    "    def _get_data(self, ids):\n",
    "        pass\n",
    "    \n",
    "    def generate(self):\n",
    "        pass"
   ]
  }
 ],
 "metadata": {
  "kernelspec": {
   "display_name": "Python 3",
   "language": "python",
   "name": "python3"
  },
  "language_info": {
   "codemirror_mode": {
    "name": "ipython",
    "version": 3
   },
   "file_extension": ".py",
   "mimetype": "text/x-python",
   "name": "python",
   "nbconvert_exporter": "python",
   "pygments_lexer": "ipython3",
   "version": "3.6.4"
  },
  "toc": {
   "nav_menu": {},
   "number_sections": true,
   "sideBar": false,
   "skip_h1_title": false,
   "title_cell": "Table of Contents",
   "title_sidebar": "Contents",
   "toc_cell": true,
   "toc_position": {},
   "toc_section_display": true,
   "toc_window_display": false
  }
 },
 "nbformat": 4,
 "nbformat_minor": 2
}
